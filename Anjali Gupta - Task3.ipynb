{
 "cells": [
  {
   "cell_type": "markdown",
   "id": "f2f79b95-2bc4-4db2-b2ba-be6c2e4ffd16",
   "metadata": {},
   "source": [
    "# list"
   ]
  },
  {
   "cell_type": "markdown",
   "id": "39966af8-82a9-4397-93a6-f86e7c3134f8",
   "metadata": {},
   "source": [
    "# 1) Append \n",
    "Adds an element at the end of the list\n",
    "\n",
    "https://www.w3schools.com/python/python_ref_list.asp"
   ]
  },
  {
   "cell_type": "code",
   "execution_count": 8,
   "id": "7c946f94-fb2f-4bb5-bab8-9c236022952f",
   "metadata": {},
   "outputs": [],
   "source": [
    "list1 = [1,123,452,23,'Apple',12]"
   ]
  },
  {
   "cell_type": "code",
   "execution_count": 10,
   "id": "0a0ad7bf-f6af-437d-8a3f-330c9dbb1a02",
   "metadata": {},
   "outputs": [
    {
     "data": {
      "text/plain": [
       "[1, 123, 452, 23, 'Apple', 12]"
      ]
     },
     "execution_count": 10,
     "metadata": {},
     "output_type": "execute_result"
    }
   ],
   "source": [
    "list1"
   ]
  },
  {
   "cell_type": "code",
   "execution_count": 12,
   "id": "25dc819f-3887-4ff5-9f07-fd555dcefe7b",
   "metadata": {},
   "outputs": [],
   "source": [
    "list1.append('Mango')"
   ]
  },
  {
   "cell_type": "code",
   "execution_count": 14,
   "id": "dcd1c35b-e265-4190-92eb-0ce872da649d",
   "metadata": {},
   "outputs": [
    {
     "data": {
      "text/plain": [
       "[1, 123, 452, 23, 'Apple', 12, 'Mango']"
      ]
     },
     "execution_count": 14,
     "metadata": {},
     "output_type": "execute_result"
    }
   ],
   "source": [
    "list1"
   ]
  },
  {
   "cell_type": "markdown",
   "id": "516bdab4-fecf-47c4-b162-2c4f348a6011",
   "metadata": {},
   "source": [
    "# 2) clear\n",
    "Removes all the elements from the list\n",
    "\n",
    "https://www.w3schools.com/python/python_ref_list.asp\n"
   ]
  },
  {
   "cell_type": "code",
   "execution_count": 22,
   "id": "6c579b50-9827-49de-b95a-4b226264c003",
   "metadata": {},
   "outputs": [],
   "source": [
    "list2 = [12,23,41,52,56,23]"
   ]
  },
  {
   "cell_type": "code",
   "execution_count": 24,
   "id": "65581343-289c-4179-b199-7e0cb2a765e0",
   "metadata": {},
   "outputs": [
    {
     "data": {
      "text/plain": [
       "[12, 23, 41, 52, 56, 23]"
      ]
     },
     "execution_count": 24,
     "metadata": {},
     "output_type": "execute_result"
    }
   ],
   "source": [
    "list2"
   ]
  },
  {
   "cell_type": "code",
   "execution_count": 26,
   "id": "6e105d22-f033-4e3a-a4c6-ccfcfdd6b5f1",
   "metadata": {},
   "outputs": [],
   "source": [
    "list2.clear()"
   ]
  },
  {
   "cell_type": "code",
   "execution_count": 28,
   "id": "72e7b7bd-6976-4cc0-9780-478799c52f06",
   "metadata": {},
   "outputs": [
    {
     "data": {
      "text/plain": [
       "[]"
      ]
     },
     "execution_count": 28,
     "metadata": {},
     "output_type": "execute_result"
    }
   ],
   "source": [
    "list2"
   ]
  },
  {
   "cell_type": "markdown",
   "id": "3eb976b2-8fc5-4d7e-8168-b971d873525e",
   "metadata": {},
   "source": [
    "# 3) copy\n",
    "Returns a copy of the list\n",
    "\n",
    "https://www.w3schools.com/python/python_ref_list.asp"
   ]
  },
  {
   "cell_type": "code",
   "execution_count": 31,
   "id": "0716d6b4-bad5-4c28-806d-f9877c3bd96c",
   "metadata": {},
   "outputs": [],
   "source": [
    "list3 = [78,98,89,54,'Apple','Mango']"
   ]
  },
  {
   "cell_type": "code",
   "execution_count": 33,
   "id": "1dd55cda-3941-41de-9fd5-ee02b8c939ec",
   "metadata": {},
   "outputs": [
    {
     "data": {
      "text/plain": [
       "[78, 98, 89, 54, 'Apple', 'Mango']"
      ]
     },
     "execution_count": 33,
     "metadata": {},
     "output_type": "execute_result"
    }
   ],
   "source": [
    "list3"
   ]
  },
  {
   "cell_type": "code",
   "execution_count": 35,
   "id": "33d88dc4-30ff-4449-bdea-dc9ac9b9186f",
   "metadata": {},
   "outputs": [
    {
     "data": {
      "text/plain": [
       "[78, 98, 89, 54, 'Apple', 'Mango']"
      ]
     },
     "execution_count": 35,
     "metadata": {},
     "output_type": "execute_result"
    }
   ],
   "source": [
    "list3.copy()"
   ]
  },
  {
   "cell_type": "markdown",
   "id": "257bc395-013a-495f-ae17-46bf855f6091",
   "metadata": {},
   "source": [
    "# 4) count\n",
    "\n",
    "Returns the number of elements with the specified value\n",
    "\n",
    "https://www.w3schools.com/python/python_ref_list.asp"
   ]
  },
  {
   "cell_type": "code",
   "execution_count": 41,
   "id": "b90c3df7-5f57-4910-bd58-37ed7d4bbe56",
   "metadata": {},
   "outputs": [],
   "source": [
    "list4 = [896,'Apple','Mango',456]"
   ]
  },
  {
   "cell_type": "code",
   "execution_count": 43,
   "id": "f3334837-61af-47d2-9b93-beaa629a3b97",
   "metadata": {},
   "outputs": [
    {
     "data": {
      "text/plain": [
       "[896, 'Apple', 'Mango', 456]"
      ]
     },
     "execution_count": 43,
     "metadata": {},
     "output_type": "execute_result"
    }
   ],
   "source": [
    "list4"
   ]
  },
  {
   "cell_type": "code",
   "execution_count": 58,
   "id": "a16d25ab-6c90-474c-aa94-595e25b06a02",
   "metadata": {},
   "outputs": [
    {
     "data": {
      "text/plain": [
       "1"
      ]
     },
     "execution_count": 58,
     "metadata": {},
     "output_type": "execute_result"
    }
   ],
   "source": [
    "list4.count('Apple')"
   ]
  },
  {
   "cell_type": "markdown",
   "id": "a64d5e96-c308-41bc-9a57-28f1e1e7abf5",
   "metadata": {},
   "source": [
    "# 5) Extend\n",
    "Add the elements of a list (or any iterable), to the end of the current list\n",
    "\n",
    "\n",
    "https://www.w3schools.com/python/python_ref_list.asp"
   ]
  },
  {
   "cell_type": "code",
   "execution_count": 61,
   "id": "6812b5fd-a38b-4e5c-8b32-afb17293892d",
   "metadata": {},
   "outputs": [],
   "source": [
    "list5 = [1,2,3,4,5,6,'Apple','Banana']"
   ]
  },
  {
   "cell_type": "code",
   "execution_count": 63,
   "id": "c5a2ea19-c5ad-48f8-a153-e9b687738d93",
   "metadata": {},
   "outputs": [],
   "source": [
    "list_5 = [7,8,9,'cherry']"
   ]
  },
  {
   "cell_type": "code",
   "execution_count": 65,
   "id": "595e6095-82c9-4cb9-947e-3885292f4dd0",
   "metadata": {},
   "outputs": [],
   "source": [
    "list5.extend(list_5)"
   ]
  },
  {
   "cell_type": "code",
   "execution_count": 67,
   "id": "c58223bb-2442-4780-b208-e01892c3ee94",
   "metadata": {},
   "outputs": [
    {
     "data": {
      "text/plain": [
       "[1, 2, 3, 4, 5, 6, 'Apple', 'Banana', 7, 8, 9, 'cherry']"
      ]
     },
     "execution_count": 67,
     "metadata": {},
     "output_type": "execute_result"
    }
   ],
   "source": [
    "list5"
   ]
  },
  {
   "cell_type": "markdown",
   "id": "8f03dafe-7f80-4d94-9f17-4ac5ae436797",
   "metadata": {},
   "source": [
    "# 6)Index\n",
    "Returns the index of the first element with the specified value\n",
    "\n",
    "https://www.w3schools.com/python/python_ref_list.asp\r\n"
   ]
  },
  {
   "cell_type": "code",
   "execution_count": 130,
   "id": "7fe29509-ebbe-45a0-8e71-42c656be73a0",
   "metadata": {},
   "outputs": [],
   "source": [
    "list6 = [1,2,3,4,5,6,'Apple']"
   ]
  },
  {
   "cell_type": "code",
   "execution_count": 132,
   "id": "af9b85ad-c8be-4759-8796-5d37cc8c1791",
   "metadata": {},
   "outputs": [
    {
     "data": {
      "text/plain": [
       "[1, 2, 3, 4, 5, 6, 'Apple']"
      ]
     },
     "execution_count": 132,
     "metadata": {},
     "output_type": "execute_result"
    }
   ],
   "source": [
    "list6"
   ]
  },
  {
   "cell_type": "code",
   "execution_count": 134,
   "id": "e5695d03-aaef-48af-924c-c5e1e5b4327d",
   "metadata": {},
   "outputs": [
    {
     "data": {
      "text/plain": [
       "6"
      ]
     },
     "execution_count": 134,
     "metadata": {},
     "output_type": "execute_result"
    }
   ],
   "source": [
    "list6.index('Apple')"
   ]
  },
  {
   "cell_type": "markdown",
   "id": "f0904bf5-6822-4007-a484-a7c2a8a7d575",
   "metadata": {},
   "source": [
    "# 7) Insert\n",
    "Adds an element at the specified position\n",
    "\n",
    "https://www.w3schools.com/python/python_ref_list.asp"
   ]
  },
  {
   "cell_type": "code",
   "execution_count": 139,
   "id": "c5c4151d-3afa-455d-9673-40eebdded7f4",
   "metadata": {},
   "outputs": [],
   "source": [
    "list7 = [1,2,3,4,5,6,'Apple','Mango','Cherry']"
   ]
  },
  {
   "cell_type": "code",
   "execution_count": 141,
   "id": "374923f6-2862-41c2-bcc5-0675a6a836a7",
   "metadata": {},
   "outputs": [
    {
     "data": {
      "text/plain": [
       "[1, 2, 3, 4, 5, 6, 'Apple', 'Mango', 'Cherry']"
      ]
     },
     "execution_count": 141,
     "metadata": {},
     "output_type": "execute_result"
    }
   ],
   "source": [
    "list7"
   ]
  },
  {
   "cell_type": "code",
   "execution_count": 143,
   "id": "771b6b1a-ac9f-4418-8fdc-e8a2ffa74a4c",
   "metadata": {},
   "outputs": [],
   "source": [
    "list7.insert(1,'Banana')"
   ]
  },
  {
   "cell_type": "code",
   "execution_count": 145,
   "id": "8e8ff155-3961-4a9a-bfc4-386ef21a4158",
   "metadata": {},
   "outputs": [
    {
     "data": {
      "text/plain": [
       "[1, 'Banana', 2, 3, 4, 5, 6, 'Apple', 'Mango', 'Cherry']"
      ]
     },
     "execution_count": 145,
     "metadata": {},
     "output_type": "execute_result"
    }
   ],
   "source": [
    "list7"
   ]
  },
  {
   "cell_type": "markdown",
   "id": "15855367-20ee-41d8-abd3-205546c544f7",
   "metadata": {},
   "source": [
    "# 8) Pop\n",
    "Removes the element at the specified position\n",
    "\n",
    "https://www.w3schools.com/python/python_ref_list.asp\n"
   ]
  },
  {
   "cell_type": "code",
   "execution_count": 149,
   "id": "75332b59-6708-4405-8e95-74e538448ff8",
   "metadata": {},
   "outputs": [],
   "source": [
    "list8 = [1,2,3,4,5,6,'Apple','Mango']"
   ]
  },
  {
   "cell_type": "code",
   "execution_count": 151,
   "id": "99c73f10-c21c-4132-a218-fa93253cb0aa",
   "metadata": {},
   "outputs": [
    {
     "data": {
      "text/plain": [
       "[1, 2, 3, 4, 5, 6, 'Apple', 'Mango']"
      ]
     },
     "execution_count": 151,
     "metadata": {},
     "output_type": "execute_result"
    }
   ],
   "source": [
    "list8"
   ]
  },
  {
   "cell_type": "code",
   "execution_count": 153,
   "id": "12905fd9-31bf-4c56-92f0-4a8d2cdf8f34",
   "metadata": {},
   "outputs": [
    {
     "data": {
      "text/plain": [
       "2"
      ]
     },
     "execution_count": 153,
     "metadata": {},
     "output_type": "execute_result"
    }
   ],
   "source": [
    "list8.pop(1)"
   ]
  },
  {
   "cell_type": "markdown",
   "id": "e1bf992d-e28f-4469-ab37-4170cd06a377",
   "metadata": {},
   "source": [
    "# 9) Remove\n",
    "\n",
    "Removes the first item with the specified value\n",
    "\n",
    "https://www.w3schools.com/python/python_ref_list.asp\n"
   ]
  },
  {
   "cell_type": "code",
   "execution_count": 156,
   "id": "133e8f06-75a9-450b-94f8-8aca0c036b5c",
   "metadata": {},
   "outputs": [],
   "source": [
    "list9 = [1,2,3,4,'Apple','Cherry']"
   ]
  },
  {
   "cell_type": "code",
   "execution_count": 158,
   "id": "875da172-9a3f-4aff-8534-003c92967252",
   "metadata": {},
   "outputs": [
    {
     "data": {
      "text/plain": [
       "[1, 2, 3, 4, 'Apple', 'Cherry']"
      ]
     },
     "execution_count": 158,
     "metadata": {},
     "output_type": "execute_result"
    }
   ],
   "source": [
    "list9"
   ]
  },
  {
   "cell_type": "code",
   "execution_count": 164,
   "id": "2e2aa9ea-1b2b-4534-9e14-f5c135254434",
   "metadata": {},
   "outputs": [],
   "source": [
    "list9.remove(\"Apple\")"
   ]
  },
  {
   "cell_type": "code",
   "execution_count": 166,
   "id": "1ce7f258-2657-4d19-91eb-49a814a3341d",
   "metadata": {},
   "outputs": [
    {
     "data": {
      "text/plain": [
       "[1, 2, 3, 4, 'Cherry']"
      ]
     },
     "execution_count": 166,
     "metadata": {},
     "output_type": "execute_result"
    }
   ],
   "source": [
    "list9"
   ]
  },
  {
   "cell_type": "markdown",
   "id": "c04ce772-a1c6-4f55-b73a-99149178d7b0",
   "metadata": {},
   "source": [
    "# 10) Reverse\n",
    "\n",
    "Reverses the order of the list\n",
    "\n",
    "https://www.w3schools.com/python/python_ref_list.asp\n"
   ]
  },
  {
   "cell_type": "code",
   "execution_count": 169,
   "id": "c63dd577-53bd-405d-b6fa-988a64b039c8",
   "metadata": {},
   "outputs": [],
   "source": [
    "list10 = [9,8,7,6,5,4,3,2,1]"
   ]
  },
  {
   "cell_type": "code",
   "execution_count": 171,
   "id": "2cf00ed1-58de-4db6-815d-865bb35a13a8",
   "metadata": {},
   "outputs": [],
   "source": [
    "list10.reverse()"
   ]
  },
  {
   "cell_type": "code",
   "execution_count": 173,
   "id": "6061fbba-e989-4703-97ac-ec5d8404f885",
   "metadata": {},
   "outputs": [
    {
     "data": {
      "text/plain": [
       "[1, 2, 3, 4, 5, 6, 7, 8, 9]"
      ]
     },
     "execution_count": 173,
     "metadata": {},
     "output_type": "execute_result"
    }
   ],
   "source": [
    "list10"
   ]
  },
  {
   "cell_type": "markdown",
   "id": "166c3415-7ba4-4f83-8ecf-f3077a51d452",
   "metadata": {},
   "source": [
    "# 11)Max\n",
    "\n",
    "Python list max() function returns the maximum value present in the list.\n",
    "\n",
    "https://www.geeksforgeeks.org/python-list-max-method/?ref=lbp\n",
    "\n"
   ]
  },
  {
   "cell_type": "code",
   "execution_count": 184,
   "id": "c04d042d-a5f9-45f7-9951-eec765ea4c36",
   "metadata": {},
   "outputs": [],
   "source": [
    "list11 = [1,2,3,4,5,6,7,8,9]"
   ]
  },
  {
   "cell_type": "code",
   "execution_count": 186,
   "id": "1663802d-9192-462a-9b7f-d6ad36d3bd30",
   "metadata": {},
   "outputs": [
    {
     "data": {
      "text/plain": [
       "[1, 2, 3, 4, 5, 6, 7, 8, 9]"
      ]
     },
     "execution_count": 186,
     "metadata": {},
     "output_type": "execute_result"
    }
   ],
   "source": [
    "list11"
   ]
  },
  {
   "cell_type": "code",
   "execution_count": 196,
   "id": "ee681d60-5a84-4e4b-a368-f4a2f44058e7",
   "metadata": {},
   "outputs": [
    {
     "data": {
      "text/plain": [
       "9"
      ]
     },
     "execution_count": 196,
     "metadata": {},
     "output_type": "execute_result"
    }
   ],
   "source": [
    "max(list11)"
   ]
  },
  {
   "cell_type": "markdown",
   "id": "452320b9-31b6-4d85-b62c-7cdb5c53d58c",
   "metadata": {},
   "source": [
    "# 12)Min\n",
    "\n",
    "Python min() function returns the smallest of the values or the smallest item in an iterable passed as its parameter.\n",
    "\n",
    "https://www.geeksforgeeks.org/python-min-function/?ref=lbp"
   ]
  },
  {
   "cell_type": "code",
   "execution_count": 201,
   "id": "a0c2cfcc-6e53-4442-a29a-16e8911a7451",
   "metadata": {},
   "outputs": [],
   "source": [
    "list12 = [1,2,3,4,5,6,7,8,9]"
   ]
  },
  {
   "cell_type": "code",
   "execution_count": 203,
   "id": "bebe9f5a-63ab-41ba-97bc-377f381e9e55",
   "metadata": {},
   "outputs": [
    {
     "data": {
      "text/plain": [
       "[1, 2, 3, 4, 5, 6, 7, 8, 9]"
      ]
     },
     "execution_count": 203,
     "metadata": {},
     "output_type": "execute_result"
    }
   ],
   "source": [
    "list12"
   ]
  },
  {
   "cell_type": "code",
   "execution_count": 205,
   "id": "0936313b-3bc6-4cef-a28e-9b1df6702d7c",
   "metadata": {},
   "outputs": [
    {
     "data": {
      "text/plain": [
       "1"
      ]
     },
     "execution_count": 205,
     "metadata": {},
     "output_type": "execute_result"
    }
   ],
   "source": [
    "min(list12)"
   ]
  },
  {
   "cell_type": "markdown",
   "id": "cf66955c-2eb1-4ffd-99a4-6c7e63a27059",
   "metadata": {},
   "source": [
    "# 13) Length\n",
    "It can be used to find the length of an object by passing the object within the parentheses of the len function.\n",
    "\n",
    "https://www.geeksforgeeks.org/python-ways-to-find-length-of-list/?ref=lbp"
   ]
  },
  {
   "cell_type": "code",
   "execution_count": 210,
   "id": "94a66516-fbaf-4a60-97ac-ce57091d9e80",
   "metadata": {},
   "outputs": [],
   "source": [
    "list13 = [True,'Apple',False,1,2,3,4,5,6]"
   ]
  },
  {
   "cell_type": "code",
   "execution_count": 212,
   "id": "aaccca18-6c18-485f-9e71-776af8b7bddc",
   "metadata": {},
   "outputs": [
    {
     "data": {
      "text/plain": [
       "[True, 'Apple', False, 1, 2, 3, 4, 5, 6]"
      ]
     },
     "execution_count": 212,
     "metadata": {},
     "output_type": "execute_result"
    }
   ],
   "source": [
    "list13"
   ]
  },
  {
   "cell_type": "code",
   "execution_count": 214,
   "id": "4c604db6-5eab-4c7e-b8ea-37a38c8e013b",
   "metadata": {},
   "outputs": [
    {
     "data": {
      "text/plain": [
       "9"
      ]
     },
     "execution_count": 214,
     "metadata": {},
     "output_type": "execute_result"
    }
   ],
   "source": [
    "len(list13)"
   ]
  },
  {
   "cell_type": "markdown",
   "id": "d961af0b-43ab-4e43-bb12-2708a161f3a4",
   "metadata": {},
   "source": [
    "# 14) Sum\n",
    "Python provides an inbuilt function sum() which sums up the numbers in the list.\n",
    "\n",
    "https://www.geeksforgeeks.org/sum-function-python/"
   ]
  },
  {
   "cell_type": "code",
   "execution_count": 219,
   "id": "3dd893ce-57ac-4fd9-8589-95725dd47758",
   "metadata": {},
   "outputs": [],
   "source": [
    "list14 = [1,2,3,4,5,6,7,8,9]"
   ]
  },
  {
   "cell_type": "code",
   "execution_count": 221,
   "id": "b983e573-f1ff-405f-8ead-3b4166b75712",
   "metadata": {},
   "outputs": [
    {
     "data": {
      "text/plain": [
       "[1, 2, 3, 4, 5, 6, 7, 8, 9]"
      ]
     },
     "execution_count": 221,
     "metadata": {},
     "output_type": "execute_result"
    }
   ],
   "source": [
    "list14"
   ]
  },
  {
   "cell_type": "code",
   "execution_count": 223,
   "id": "2c33816b-5ad0-4904-96c5-38919624048d",
   "metadata": {},
   "outputs": [
    {
     "data": {
      "text/plain": [
       "45"
      ]
     },
     "execution_count": 223,
     "metadata": {},
     "output_type": "execute_result"
    }
   ],
   "source": [
    "sum(list14)"
   ]
  },
  {
   "cell_type": "markdown",
   "id": "5b5ef95e-cc82-4725-bb16-17c3d79097cd",
   "metadata": {},
   "source": [
    "# 15) Sort\n",
    "Python sorted() function returns a sorted list. \n",
    "\n",
    "https://www.geeksforgeeks.org/python-sorted-function/?ref=lbp"
   ]
  },
  {
   "cell_type": "code",
   "execution_count": 238,
   "id": "a9103254-ca11-412e-833f-31c4199d6e4f",
   "metadata": {},
   "outputs": [],
   "source": [
    "list15 = [111,1,8,5,3,123]"
   ]
  },
  {
   "cell_type": "code",
   "execution_count": 240,
   "id": "d81f1881-c314-42b8-87a9-14cdc3962a39",
   "metadata": {},
   "outputs": [
    {
     "data": {
      "text/plain": [
       "[111, 1, 8, 5, 3, 123]"
      ]
     },
     "execution_count": 240,
     "metadata": {},
     "output_type": "execute_result"
    }
   ],
   "source": [
    "list15"
   ]
  },
  {
   "cell_type": "code",
   "execution_count": 242,
   "id": "a1cf0269-7534-4393-9e25-e6ac6854bc4f",
   "metadata": {},
   "outputs": [],
   "source": [
    "list15.sort()"
   ]
  },
  {
   "cell_type": "code",
   "execution_count": 244,
   "id": "5ef46988-ffc4-4e56-8749-2a73b59c71bd",
   "metadata": {},
   "outputs": [
    {
     "data": {
      "text/plain": [
       "[1, 3, 5, 8, 111, 123]"
      ]
     },
     "execution_count": 244,
     "metadata": {},
     "output_type": "execute_result"
    }
   ],
   "source": [
    "list15"
   ]
  },
  {
   "cell_type": "code",
   "execution_count": 246,
   "id": "085a39ac-9003-41c7-a2a9-96f470e8f31d",
   "metadata": {},
   "outputs": [],
   "source": [
    "list16 = [78,98,45,62,23,45,41,52,64]"
   ]
  },
  {
   "cell_type": "code",
   "execution_count": 248,
   "id": "a3cecf33-0290-4cd8-924f-038401607557",
   "metadata": {},
   "outputs": [
    {
     "data": {
      "text/plain": [
       "45"
      ]
     },
     "execution_count": 248,
     "metadata": {},
     "output_type": "execute_result"
    }
   ],
   "source": [
    "list16[5]"
   ]
  },
  {
   "cell_type": "code",
   "execution_count": 250,
   "id": "4690e55c-a0d0-4bb7-bdc8-753e44dabf46",
   "metadata": {},
   "outputs": [],
   "source": [
    "list17 = [789,546,'Apple','Banana',[1,2,3]]"
   ]
  },
  {
   "cell_type": "code",
   "execution_count": 252,
   "id": "59b5cf8d-d837-4a01-9040-61d0657ab4b0",
   "metadata": {},
   "outputs": [
    {
     "data": {
      "text/plain": [
       "[789, 546, 'Apple', 'Banana', [1, 2, 3]]"
      ]
     },
     "execution_count": 252,
     "metadata": {},
     "output_type": "execute_result"
    }
   ],
   "source": [
    "list17"
   ]
  },
  {
   "cell_type": "code",
   "execution_count": 254,
   "id": "b4035846-5868-42da-a641-0972a04b541a",
   "metadata": {},
   "outputs": [],
   "source": [
    "list18 = [True,'Cherry',False,12,13,14,15]"
   ]
  },
  {
   "cell_type": "code",
   "execution_count": 256,
   "id": "00b15445-1433-4aaf-bf79-5d2b1fc06bdf",
   "metadata": {},
   "outputs": [
    {
     "data": {
      "text/plain": [
       "7"
      ]
     },
     "execution_count": 256,
     "metadata": {},
     "output_type": "execute_result"
    }
   ],
   "source": [
    "len(list18)"
   ]
  },
  {
   "cell_type": "code",
   "execution_count": 258,
   "id": "df07061a-7e91-43c0-aee7-9e31af87f4f1",
   "metadata": {},
   "outputs": [],
   "source": [
    "list19 = [1,2,3,4,5,6,7,'Banana']"
   ]
  },
  {
   "cell_type": "code",
   "execution_count": 260,
   "id": "b9981667-65ba-4a6a-9da2-7f9757cc7eb0",
   "metadata": {},
   "outputs": [],
   "source": [
    "list19.append('Cherry')"
   ]
  },
  {
   "cell_type": "code",
   "execution_count": 262,
   "id": "b1146ef4-eca2-4f8c-a253-72fb52097132",
   "metadata": {},
   "outputs": [
    {
     "data": {
      "text/plain": [
       "[1, 2, 3, 4, 5, 6, 7, 'Banana', 'Cherry']"
      ]
     },
     "execution_count": 262,
     "metadata": {},
     "output_type": "execute_result"
    }
   ],
   "source": [
    "list19"
   ]
  },
  {
   "cell_type": "code",
   "execution_count": 274,
   "id": "718ceea6-61fd-418d-a760-ad87c32eeb4c",
   "metadata": {},
   "outputs": [],
   "source": [
    "list20 = ['A','C','R','B']"
   ]
  },
  {
   "cell_type": "code",
   "execution_count": 276,
   "id": "9d5932ac-1bf7-4259-8d16-d62564e8e87d",
   "metadata": {},
   "outputs": [],
   "source": [
    "list20.sort()"
   ]
  },
  {
   "cell_type": "code",
   "execution_count": 278,
   "id": "ef344bbb-9637-49f9-8a52-775d096984d4",
   "metadata": {},
   "outputs": [
    {
     "data": {
      "text/plain": [
       "['A', 'B', 'C', 'R']"
      ]
     },
     "execution_count": 278,
     "metadata": {},
     "output_type": "execute_result"
    }
   ],
   "source": [
    "list20"
   ]
  },
  {
   "cell_type": "markdown",
   "id": "347d74e7-e475-4913-8cfe-59d33656d4fe",
   "metadata": {},
   "source": [
    "# Tupple"
   ]
  },
  {
   "cell_type": "code",
   "execution_count": 281,
   "id": "d952e9a0-05c6-46e2-b05c-170d2835b98a",
   "metadata": {},
   "outputs": [],
   "source": [
    "t1 = (1,2)"
   ]
  },
  {
   "cell_type": "code",
   "execution_count": 283,
   "id": "6474ce7e-ec55-41c8-9281-3058522c3676",
   "metadata": {},
   "outputs": [
    {
     "data": {
      "text/plain": [
       "(1, 2)"
      ]
     },
     "execution_count": 283,
     "metadata": {},
     "output_type": "execute_result"
    }
   ],
   "source": [
    "t1"
   ]
  },
  {
   "cell_type": "code",
   "execution_count": 285,
   "id": "ea6de5d3-1cee-467c-b3dd-37da1caa63ab",
   "metadata": {},
   "outputs": [
    {
     "data": {
      "text/plain": [
       "tuple"
      ]
     },
     "execution_count": 285,
     "metadata": {},
     "output_type": "execute_result"
    }
   ],
   "source": [
    "type(t1)"
   ]
  },
  {
   "cell_type": "code",
   "execution_count": 287,
   "id": "da091600-e64c-49fc-b2c7-f3f549273754",
   "metadata": {},
   "outputs": [],
   "source": [
    "t2 = (1,2,3,4,5,6,4,5,6,7,8,9)"
   ]
  },
  {
   "cell_type": "code",
   "execution_count": 289,
   "id": "68f9c123-7a29-473b-94b1-8e49ecedf689",
   "metadata": {},
   "outputs": [
    {
     "data": {
      "text/plain": [
       "(1, 2, 3, 4, 5, 6, 4, 5, 6, 7, 8, 9)"
      ]
     },
     "execution_count": 289,
     "metadata": {},
     "output_type": "execute_result"
    }
   ],
   "source": [
    "t2"
   ]
  },
  {
   "cell_type": "code",
   "execution_count": 291,
   "id": "335622ee-7803-48ca-8fba-da1267eaa0bb",
   "metadata": {},
   "outputs": [
    {
     "data": {
      "text/plain": [
       "1"
      ]
     },
     "execution_count": 291,
     "metadata": {},
     "output_type": "execute_result"
    }
   ],
   "source": [
    "t2[0]"
   ]
  },
  {
   "cell_type": "code",
   "execution_count": 293,
   "id": "6c914ce9-4385-4e90-972f-00dfb36ff981",
   "metadata": {},
   "outputs": [],
   "source": [
    "t3 = (789,456,123,'Apple','Banana','Cherry')"
   ]
  },
  {
   "cell_type": "code",
   "execution_count": 295,
   "id": "aeead876-9b40-40f4-994a-d369e112f8d8",
   "metadata": {},
   "outputs": [
    {
     "data": {
      "text/plain": [
       "(789, 456, 123, 'Apple', 'Banana', 'Cherry')"
      ]
     },
     "execution_count": 295,
     "metadata": {},
     "output_type": "execute_result"
    }
   ],
   "source": [
    "t3"
   ]
  },
  {
   "cell_type": "code",
   "execution_count": 297,
   "id": "3ee0d37c-5e10-4782-86c0-4ec60533f095",
   "metadata": {},
   "outputs": [],
   "source": [
    "t4 = (147,852,963,124,458,789,321,425)"
   ]
  },
  {
   "cell_type": "code",
   "execution_count": 301,
   "id": "40ae9221-f0ac-487a-9cef-091d3fb289a8",
   "metadata": {},
   "outputs": [
    {
     "data": {
      "text/plain": [
       "(147, 852, 963, 124, 458)"
      ]
     },
     "execution_count": 301,
     "metadata": {},
     "output_type": "execute_result"
    }
   ],
   "source": [
    "t4[0:5]"
   ]
  },
  {
   "cell_type": "code",
   "execution_count": 303,
   "id": "b3748f1e-0f59-48ae-896a-8110f654fa5d",
   "metadata": {},
   "outputs": [],
   "source": [
    "t5 = ('Mark1','Mark2','Mark3')"
   ]
  },
  {
   "cell_type": "code",
   "execution_count": 305,
   "id": "64e9679b-a119-4fa1-abed-4630e4a08e9b",
   "metadata": {},
   "outputs": [
    {
     "data": {
      "text/plain": [
       "('Mark1', 'Mark2', 'Mark3')"
      ]
     },
     "execution_count": 305,
     "metadata": {},
     "output_type": "execute_result"
    }
   ],
   "source": [
    "t5"
   ]
  },
  {
   "cell_type": "code",
   "execution_count": 311,
   "id": "f5289e2c-4076-46b4-9c39-a55afd42ceda",
   "metadata": {},
   "outputs": [],
   "source": [
    "t6 = (1,2,2,2,3,4,[9,8,7,6])"
   ]
  },
  {
   "cell_type": "code",
   "execution_count": 313,
   "id": "f1ba5563-b06b-4ed8-9951-5b5beab5dc26",
   "metadata": {},
   "outputs": [
    {
     "data": {
      "text/plain": [
       "(1, 2, 2, 2, 3, 4, [9, 8, 7, 6])"
      ]
     },
     "execution_count": 313,
     "metadata": {},
     "output_type": "execute_result"
    }
   ],
   "source": [
    "t6"
   ]
  },
  {
   "cell_type": "code",
   "execution_count": 315,
   "id": "5fc13e14-af54-43e6-a0ed-b397c40fb7d2",
   "metadata": {},
   "outputs": [
    {
     "data": {
      "text/plain": [
       "3"
      ]
     },
     "execution_count": 315,
     "metadata": {},
     "output_type": "execute_result"
    }
   ],
   "source": [
    "t6.count(2)"
   ]
  },
  {
   "cell_type": "code",
   "execution_count": 319,
   "id": "696e4939-e573-481e-92ad-40585f6d4608",
   "metadata": {},
   "outputs": [],
   "source": [
    "t7 = ({'Apple':'Cherry'},1,12,13)"
   ]
  },
  {
   "cell_type": "code",
   "execution_count": 321,
   "id": "996358bd-e488-48d3-8faf-13b750aae96b",
   "metadata": {},
   "outputs": [
    {
     "data": {
      "text/plain": [
       "({'Apple': 'Cherry'}, 1, 12, 13)"
      ]
     },
     "execution_count": 321,
     "metadata": {},
     "output_type": "execute_result"
    }
   ],
   "source": [
    "t7"
   ]
  },
  {
   "cell_type": "code",
   "execution_count": 329,
   "id": "3444b745-a13e-4c76-8900-243d7ad35741",
   "metadata": {},
   "outputs": [],
   "source": [
    "t8 = (1,2,3,\"Yes\",'true',[12,45,56])"
   ]
  },
  {
   "cell_type": "code",
   "execution_count": 331,
   "id": "fef6b993-6d38-4232-998c-d806730d8a62",
   "metadata": {},
   "outputs": [
    {
     "data": {
      "text/plain": [
       "(1, 2, 3, 'Yes', 'true', [12, 45, 56])"
      ]
     },
     "execution_count": 331,
     "metadata": {},
     "output_type": "execute_result"
    }
   ],
   "source": [
    "t8"
   ]
  },
  {
   "cell_type": "code",
   "execution_count": null,
   "id": "5ce96ce9-4e73-4113-a849-6fd21e50e549",
   "metadata": {},
   "outputs": [],
   "source": []
  }
 ],
 "metadata": {
  "kernelspec": {
   "display_name": "Python 3 (ipykernel)",
   "language": "python",
   "name": "python3"
  },
  "language_info": {
   "codemirror_mode": {
    "name": "ipython",
    "version": 3
   },
   "file_extension": ".py",
   "mimetype": "text/x-python",
   "name": "python",
   "nbconvert_exporter": "python",
   "pygments_lexer": "ipython3",
   "version": "3.12.4"
  }
 },
 "nbformat": 4,
 "nbformat_minor": 5
}
